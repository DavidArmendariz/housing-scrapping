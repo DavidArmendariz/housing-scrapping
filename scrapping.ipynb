{
 "cells": [
  {
   "cell_type": "code",
   "execution_count": null,
   "metadata": {
    "collapsed": true
   },
   "outputs": [],
   "source": [
    "from selenium import webdriver\n",
    "from selenium.webdriver.common.by import By\n",
    "from selenium.webdriver.chrome.options import Options\n",
    "from selenium.webdriver.chrome.service import Service\n",
    "from webdriver_manager.chrome import ChromeDriverManager\n",
    "from math import inf\n",
    "import pandas as pd"
   ]
  },
  {
   "cell_type": "code",
   "execution_count": null,
   "metadata": {
    "collapsed": false,
    "pycharm": {
     "name": "#%%\n"
    }
   },
   "outputs": [],
   "source": [
    "def get_url(type, location, transaction, page):\n",
    "    return f\"https://www.fincaraiz.com.co/{type}/{transaction}/{location}?pagina={page}\""
   ]
  },
  {
   "cell_type": "code",
   "execution_count": null,
   "metadata": {},
   "outputs": [],
   "source": [
    "def get_driver(disable_gui = True):\n",
    "    options = Options()\n",
    "    if disable_gui:\n",
    "        options.add_argument('--headless')\n",
    "        options.add_argument('--no-sandbox')\n",
    "    options.add_argument('--disable-dev-shm-usage')\n",
    "    return(webdriver.Chrome(service=Service(ChromeDriverManager().install()), options=options))"
   ]
  },
  {
   "cell_type": "code",
   "execution_count": null,
   "metadata": {
    "collapsed": false,
    "pycharm": {
     "name": "#%%\n"
    }
   },
   "outputs": [],
   "source": [
    "transaction = \"venta\"\n",
    "city = \"medellin\"\n",
    "department = \"antioquia\"\n",
    "location = f\"{city}/{department}\"\n",
    "type = \"apartaestudios-apartamentos\"\n",
    "houses = []"
   ]
  },
  {
   "cell_type": "code",
   "execution_count": null,
   "metadata": {},
   "outputs": [],
   "source": [
    "def get_information(url: str):\n",
    "    page_driver = get_driver()\n",
    "    page_driver.get(url)\n",
    "    attributes_container = page_driver\\\n",
    "        .find_element(By.ID, \"general\")\\\n",
    "        .find_elements(By.XPATH, '*')[0]\\\n",
    "        .find_elements(By.XPATH, '*')[1]\\\n",
    "        .find_elements(By.XPATH, '*')[0]\n",
    "    attributes = attributes_container.find_elements(By.CSS_SELECTOR, \"p.jss65.jss74\")\n",
    "    house = {}\n",
    "    for index in range(len(attributes)):\n",
    "        if index % 2 != 0:\n",
    "            continue\n",
    "        key = attributes[index].text\n",
    "        value = attributes[index + 1].text\n",
    "        try:\n",
    "            if \"m²\" in value or \"&nbsp;\" in value or \"*\":\n",
    "                value = value.replace(\"m²\", \"\").replace(\"&nbsp;\", \"\").replace(\"*\", \"\").strip()\n",
    "            house[key] = value\n",
    "        except Exception as e:\n",
    "            print(f\"Error al obtener el atributo '{key}'\")\n",
    "            print(e)\n",
    "            pass\n",
    "    try:\n",
    "        price = page_driver.find_element(By.TAG_NAME, \"aside\").find_element(By.XPATH, \"//p[text()='Precio total (COP)']/following-sibling::p\")\n",
    "        house[\"Precio total (COP)\"] = price.get_attribute(\"innerHTML\").replace(\"&nbsp;\", \"\").strip()\n",
    "    except Exception:\n",
    "        pass\n",
    "    houses.append(house)\n",
    "    page_driver.close()"
   ]
  },
  {
   "cell_type": "code",
   "execution_count": null,
   "metadata": {},
   "outputs": [],
   "source": []
  },
  {
   "cell_type": "code",
   "execution_count": null,
   "metadata": {
    "collapsed": false,
    "pycharm": {
     "name": "#%%\n"
    }
   },
   "outputs": [],
   "source": [
    "main_driver = get_driver()\n",
    "max_per_page = inf\n",
    "try:\n",
    "    for page in range(1, 30):\n",
    "        main_url = get_url(type, location, transaction, page)\n",
    "        main_driver.get(main_url)\n",
    "        articles = main_driver.find_elements(By.TAG_NAME, \"article\")\n",
    "        total_articles = len(articles)\n",
    "        print(f\"Página {page}\")\n",
    "        print(f\"Esta página contiene {total_articles} elementos\")\n",
    "        houses_iterated = 0\n",
    "        for index, article in enumerate(articles):\n",
    "            if houses_iterated == max_per_page:\n",
    "                break\n",
    "            print(f\"Obteniendo información del inmueble {index + 1} de {total_articles}\")\n",
    "            try:\n",
    "                url = article.find_element(By.TAG_NAME, \"a\").get_property(\"href\")\n",
    "                print(url)\n",
    "            except Exception:\n",
    "                print(\"Error al obtener la URL\")\n",
    "                continue\n",
    "            get_information(url)\n",
    "            houses_iterated += 1\n",
    "finally:\n",
    "    main_driver.close()\n"
   ]
  },
  {
   "cell_type": "code",
   "execution_count": null,
   "metadata": {
    "collapsed": false,
    "pycharm": {
     "name": "#%%\n"
    }
   },
   "outputs": [],
   "source": [
    "len(houses)"
   ]
  },
  {
   "cell_type": "code",
   "execution_count": null,
   "metadata": {
    "collapsed": false,
    "pycharm": {
     "name": "#%%\n"
    }
   },
   "outputs": [],
   "source": [
    "houses"
   ]
  },
  {
   "cell_type": "code",
   "execution_count": null,
   "metadata": {
    "collapsed": false,
    "pycharm": {
     "name": "#%%\n"
    }
   },
   "outputs": [],
   "source": [
    "df = pd.DataFrame.from_dict(houses)\n",
    "df.to_csv(f\"house_prices_colombia_{city}.csv\")"
   ]
  },
  {
   "cell_type": "code",
   "execution_count": null,
   "metadata": {
    "collapsed": false,
    "pycharm": {
     "name": "#%%\n"
    }
   },
   "outputs": [],
   "source": [
    "df"
   ]
  }
 ],
 "metadata": {
  "kernelspec": {
   "display_name": "Python 3",
   "language": "python",
   "name": "python3"
  },
  "language_info": {
   "codemirror_mode": {
    "name": "ipython",
    "version": 3
   },
   "file_extension": ".py",
   "mimetype": "text/x-python",
   "name": "python",
   "nbconvert_exporter": "python",
   "pygments_lexer": "ipython3",
   "version": "3.11.4"
  }
 },
 "nbformat": 4,
 "nbformat_minor": 0
}
