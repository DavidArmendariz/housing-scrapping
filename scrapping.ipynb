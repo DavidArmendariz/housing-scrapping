{
 "cells": [
  {
   "cell_type": "code",
   "execution_count": 12,
   "metadata": {
    "collapsed": true
   },
   "outputs": [],
   "source": [
    "from selenium import webdriver\n",
    "from selenium.webdriver.common.by import By\n",
    "import pandas as pd"
   ]
  },
  {
   "cell_type": "code",
   "execution_count": 13,
   "outputs": [],
   "source": [
    "def get_url(type, location, transaccion, page):\n",
    "    return f\"https://www.fincaraiz.com.co/{type}/{transaccion}/{location}?pagina={page}\""
   ],
   "metadata": {
    "collapsed": false,
    "pycharm": {
     "name": "#%%\n"
    }
   }
  },
  {
   "cell_type": "code",
   "execution_count": 14,
   "outputs": [],
   "source": [
    "transaccion = \"venta\"\n",
    "ubicacion = \"bogota\"\n",
    "tipo = \"apartaestudios-apartamentos\""
   ],
   "metadata": {
    "collapsed": false,
    "pycharm": {
     "name": "#%%\n"
    }
   }
  },
  {
   "cell_type": "code",
   "execution_count": 15,
   "outputs": [
    {
     "name": "stdout",
     "output_type": "stream",
     "text": [
      "Página 0\n"
     ]
    },
    {
     "ename": "TimeoutException",
     "evalue": "Message: \nStacktrace:\nWebDriverError@chrome://marionette/content/error.js:181:5\nTimeoutError@chrome://marionette/content/error.js:450:5\nbail@chrome://marionette/content/sync.js:227:19\n",
     "output_type": "error",
     "traceback": [
      "\u001B[0;31m---------------------------------------------------------------------------\u001B[0m",
      "\u001B[0;31mTimeoutException\u001B[0m                          Traceback (most recent call last)",
      "\u001B[0;32m<ipython-input-15-91796c23ead2>\u001B[0m in \u001B[0;36m<module>\u001B[0;34m\u001B[0m\n\u001B[1;32m     14\u001B[0m         \u001B[0murl\u001B[0m \u001B[0;34m=\u001B[0m \u001B[0marticle\u001B[0m\u001B[0;34m.\u001B[0m\u001B[0mfind_element\u001B[0m\u001B[0;34m(\u001B[0m\u001B[0mBy\u001B[0m\u001B[0;34m.\u001B[0m\u001B[0mTAG_NAME\u001B[0m\u001B[0;34m,\u001B[0m \u001B[0;34m\"a\"\u001B[0m\u001B[0;34m)\u001B[0m\u001B[0;34m.\u001B[0m\u001B[0mget_property\u001B[0m\u001B[0;34m(\u001B[0m\u001B[0;34m\"href\"\u001B[0m\u001B[0;34m)\u001B[0m\u001B[0;34m\u001B[0m\u001B[0;34m\u001B[0m\u001B[0m\n\u001B[1;32m     15\u001B[0m         \u001B[0mpage_driver\u001B[0m \u001B[0;34m=\u001B[0m \u001B[0mwebdriver\u001B[0m\u001B[0;34m.\u001B[0m\u001B[0mFirefox\u001B[0m\u001B[0;34m(\u001B[0m\u001B[0;34m)\u001B[0m\u001B[0;34m\u001B[0m\u001B[0;34m\u001B[0m\u001B[0m\n\u001B[0;32m---> 16\u001B[0;31m         \u001B[0mpage_driver\u001B[0m\u001B[0;34m.\u001B[0m\u001B[0mget\u001B[0m\u001B[0;34m(\u001B[0m\u001B[0mmain_url\u001B[0m\u001B[0;34m)\u001B[0m\u001B[0;34m\u001B[0m\u001B[0;34m\u001B[0m\u001B[0m\n\u001B[0m\u001B[1;32m     17\u001B[0m         \u001B[0mpage_driver\u001B[0m\u001B[0;34m.\u001B[0m\u001B[0mget\u001B[0m\u001B[0;34m(\u001B[0m\u001B[0murl\u001B[0m\u001B[0;34m)\u001B[0m\u001B[0;34m\u001B[0m\u001B[0;34m\u001B[0m\u001B[0m\n\u001B[1;32m     18\u001B[0m         \u001B[0mattributes\u001B[0m \u001B[0;34m=\u001B[0m \u001B[0mpage_driver\u001B[0m\u001B[0;34m.\u001B[0m\u001B[0mfind_elements\u001B[0m\u001B[0;34m(\u001B[0m\u001B[0mBy\u001B[0m\u001B[0;34m.\u001B[0m\u001B[0mCLASS_NAME\u001B[0m\u001B[0;34m,\u001B[0m \u001B[0;34m\"jss261\"\u001B[0m\u001B[0;34m)\u001B[0m\u001B[0;34m\u001B[0m\u001B[0;34m\u001B[0m\u001B[0m\n",
      "\u001B[0;32m/usr/local/lib/python3.9/site-packages/selenium/webdriver/remote/webdriver.py\u001B[0m in \u001B[0;36mget\u001B[0;34m(self, url)\u001B[0m\n\u001B[1;32m    435\u001B[0m         \u001B[0mLoads\u001B[0m \u001B[0ma\u001B[0m \u001B[0mweb\u001B[0m \u001B[0mpage\u001B[0m \u001B[0;32min\u001B[0m \u001B[0mthe\u001B[0m \u001B[0mcurrent\u001B[0m \u001B[0mbrowser\u001B[0m \u001B[0msession\u001B[0m\u001B[0;34m.\u001B[0m\u001B[0;34m\u001B[0m\u001B[0;34m\u001B[0m\u001B[0m\n\u001B[1;32m    436\u001B[0m         \"\"\"\n\u001B[0;32m--> 437\u001B[0;31m         \u001B[0mself\u001B[0m\u001B[0;34m.\u001B[0m\u001B[0mexecute\u001B[0m\u001B[0;34m(\u001B[0m\u001B[0mCommand\u001B[0m\u001B[0;34m.\u001B[0m\u001B[0mGET\u001B[0m\u001B[0;34m,\u001B[0m \u001B[0;34m{\u001B[0m\u001B[0;34m'url'\u001B[0m\u001B[0;34m:\u001B[0m \u001B[0murl\u001B[0m\u001B[0;34m}\u001B[0m\u001B[0;34m)\u001B[0m\u001B[0;34m\u001B[0m\u001B[0;34m\u001B[0m\u001B[0m\n\u001B[0m\u001B[1;32m    438\u001B[0m \u001B[0;34m\u001B[0m\u001B[0m\n\u001B[1;32m    439\u001B[0m     \u001B[0;34m@\u001B[0m\u001B[0mproperty\u001B[0m\u001B[0;34m\u001B[0m\u001B[0;34m\u001B[0m\u001B[0m\n",
      "\u001B[0;32m/usr/local/lib/python3.9/site-packages/selenium/webdriver/remote/webdriver.py\u001B[0m in \u001B[0;36mexecute\u001B[0;34m(self, driver_command, params)\u001B[0m\n\u001B[1;32m    423\u001B[0m         \u001B[0mresponse\u001B[0m \u001B[0;34m=\u001B[0m \u001B[0mself\u001B[0m\u001B[0;34m.\u001B[0m\u001B[0mcommand_executor\u001B[0m\u001B[0;34m.\u001B[0m\u001B[0mexecute\u001B[0m\u001B[0;34m(\u001B[0m\u001B[0mdriver_command\u001B[0m\u001B[0;34m,\u001B[0m \u001B[0mparams\u001B[0m\u001B[0;34m)\u001B[0m\u001B[0;34m\u001B[0m\u001B[0;34m\u001B[0m\u001B[0m\n\u001B[1;32m    424\u001B[0m         \u001B[0;32mif\u001B[0m \u001B[0mresponse\u001B[0m\u001B[0;34m:\u001B[0m\u001B[0;34m\u001B[0m\u001B[0;34m\u001B[0m\u001B[0m\n\u001B[0;32m--> 425\u001B[0;31m             \u001B[0mself\u001B[0m\u001B[0;34m.\u001B[0m\u001B[0merror_handler\u001B[0m\u001B[0;34m.\u001B[0m\u001B[0mcheck_response\u001B[0m\u001B[0;34m(\u001B[0m\u001B[0mresponse\u001B[0m\u001B[0;34m)\u001B[0m\u001B[0;34m\u001B[0m\u001B[0;34m\u001B[0m\u001B[0m\n\u001B[0m\u001B[1;32m    426\u001B[0m             response['value'] = self._unwrap_value(\n\u001B[1;32m    427\u001B[0m                 response.get('value', None))\n",
      "\u001B[0;32m/usr/local/lib/python3.9/site-packages/selenium/webdriver/remote/errorhandler.py\u001B[0m in \u001B[0;36mcheck_response\u001B[0;34m(self, response)\u001B[0m\n\u001B[1;32m    245\u001B[0m                 \u001B[0malert_text\u001B[0m \u001B[0;34m=\u001B[0m \u001B[0mvalue\u001B[0m\u001B[0;34m[\u001B[0m\u001B[0;34m'alert'\u001B[0m\u001B[0;34m]\u001B[0m\u001B[0;34m.\u001B[0m\u001B[0mget\u001B[0m\u001B[0;34m(\u001B[0m\u001B[0;34m'text'\u001B[0m\u001B[0;34m)\u001B[0m\u001B[0;34m\u001B[0m\u001B[0;34m\u001B[0m\u001B[0m\n\u001B[1;32m    246\u001B[0m             \u001B[0;32mraise\u001B[0m \u001B[0mexception_class\u001B[0m\u001B[0;34m(\u001B[0m\u001B[0mmessage\u001B[0m\u001B[0;34m,\u001B[0m \u001B[0mscreen\u001B[0m\u001B[0;34m,\u001B[0m \u001B[0mstacktrace\u001B[0m\u001B[0;34m,\u001B[0m \u001B[0malert_text\u001B[0m\u001B[0;34m)\u001B[0m  \u001B[0;31m# type: ignore[call-arg]  # mypy is not smart enough here\u001B[0m\u001B[0;34m\u001B[0m\u001B[0;34m\u001B[0m\u001B[0m\n\u001B[0;32m--> 247\u001B[0;31m         \u001B[0;32mraise\u001B[0m \u001B[0mexception_class\u001B[0m\u001B[0;34m(\u001B[0m\u001B[0mmessage\u001B[0m\u001B[0;34m,\u001B[0m \u001B[0mscreen\u001B[0m\u001B[0;34m,\u001B[0m \u001B[0mstacktrace\u001B[0m\u001B[0;34m)\u001B[0m\u001B[0;34m\u001B[0m\u001B[0;34m\u001B[0m\u001B[0m\n\u001B[0m\u001B[1;32m    248\u001B[0m \u001B[0;34m\u001B[0m\u001B[0m\n\u001B[1;32m    249\u001B[0m     \u001B[0;32mdef\u001B[0m \u001B[0m_value_or_default\u001B[0m\u001B[0;34m(\u001B[0m\u001B[0mself\u001B[0m\u001B[0;34m,\u001B[0m \u001B[0mobj\u001B[0m\u001B[0;34m:\u001B[0m \u001B[0mMapping\u001B[0m\u001B[0;34m[\u001B[0m\u001B[0m_KT\u001B[0m\u001B[0;34m,\u001B[0m \u001B[0m_VT\u001B[0m\u001B[0;34m]\u001B[0m\u001B[0;34m,\u001B[0m \u001B[0mkey\u001B[0m\u001B[0;34m:\u001B[0m \u001B[0m_KT\u001B[0m\u001B[0;34m,\u001B[0m \u001B[0mdefault\u001B[0m\u001B[0;34m:\u001B[0m \u001B[0m_VT\u001B[0m\u001B[0;34m)\u001B[0m \u001B[0;34m->\u001B[0m \u001B[0m_VT\u001B[0m\u001B[0;34m:\u001B[0m\u001B[0;34m\u001B[0m\u001B[0;34m\u001B[0m\u001B[0m\n",
      "\u001B[0;31mTimeoutException\u001B[0m: Message: \nStacktrace:\nWebDriverError@chrome://marionette/content/error.js:181:5\nTimeoutError@chrome://marionette/content/error.js:450:5\nbail@chrome://marionette/content/sync.js:227:19\n"
     ]
    }
   ],
   "source": [
    "houses = []\n",
    "\n",
    "main_driver = webdriver.Firefox()\n",
    "\n",
    "for page in range(30):\n",
    "    main_url = get_url(tipo, ubicacion, transaccion, page)\n",
    "    main_driver.get(main_url)\n",
    "    print(f\"Página {page}\")\n",
    "    container = main_driver.find_element(By.ID, \"listingContainer\")\n",
    "    articles = main_driver.find_elements(By.TAG_NAME, \"article\")\n",
    "\n",
    "    urls = []\n",
    "    for article in articles:\n",
    "        url = article.find_element(By.TAG_NAME, \"a\").get_property(\"href\")\n",
    "        page_driver = webdriver.Firefox()\n",
    "        page_driver.get(main_url)\n",
    "        page_driver.get(url)\n",
    "        attributes = page_driver.find_elements(By.CLASS_NAME, \"jss261\")\n",
    "        house = {}\n",
    "        #jss1181 jss62 jss1177\n",
    "        price = page_driver.find_elements(By.CLASS_NAME, \"jss62\")[0].find_elements(By.TAG_NAME, \"p\")[1]\n",
    "        house[\"price\"] = price.text\n",
    "        for attribute in attributes:\n",
    "            try:\n",
    "                name, value = attribute.find_elements(By.TAG_NAME, \"p\")\n",
    "                house[name.text] = value.text\n",
    "            except Exception as e:\n",
    "                pass\n",
    "        houses.append(house)\n",
    "        page_driver.close()\n",
    "\n",
    "main_driver.close()\n"
   ],
   "metadata": {
    "collapsed": false,
    "pycharm": {
     "name": "#%%\n"
    }
   }
  },
  {
   "cell_type": "code",
   "execution_count": null,
   "outputs": [],
   "source": [
    "len(houses)"
   ],
   "metadata": {
    "collapsed": false,
    "pycharm": {
     "name": "#%%\n"
    }
   }
  },
  {
   "cell_type": "code",
   "execution_count": null,
   "outputs": [],
   "source": [
    "houses"
   ],
   "metadata": {
    "collapsed": false,
    "pycharm": {
     "name": "#%%\n"
    }
   }
  },
  {
   "cell_type": "code",
   "execution_count": null,
   "outputs": [],
   "source": [
    "df = pd.DataFrame.from_dict(houses)\n",
    "df.to_csv(f\"house_prices_colombia_{ubicacion}.csv\")"
   ],
   "metadata": {
    "collapsed": false,
    "pycharm": {
     "name": "#%%\n"
    }
   }
  },
  {
   "cell_type": "code",
   "execution_count": 15,
   "outputs": [
    {
     "data": {
      "text/plain": "             price Habitaciones Baños Área construída Área privada Estrato  \\\n0    $ 130.000.000            3     2           51 m²         0 m²       3   \n1    $ 112.000.000            2     1           44 m²        44 m²       2   \n2    $ 150.000.000            3     1           70 m²        64 m²       3   \n3    $ 152.152.000          NaN   NaN             NaN          NaN     NaN   \n4    $ 100.000.000            3     1           56 m²        56 m²       3   \n..             ...          ...   ...             ...          ...     ...   \n315  $ 139.000.000          NaN   NaN             NaN          NaN     NaN   \n316  $ 120.000.000            2     1           47 m²        42 m²       3   \n317  $ 137.000.000            3     2           61 m²        61 m²       3   \n318  $ 149.000.000            3     2           69 m²        70 m²       3   \n319  $ 100.000.000            3     1           48 m²         0 m²       3   \n\n         Estado    Antigüedad Piso N° Administración          Precio m²  \\\n0         Bueno    1 a 8 años       2   $ 79.000 COP  $ 2.549.019,61*m²   \n1         Bueno   9 a 15 años       1    No definida  $ 2.545.454,55*m²   \n2    Remodelado    1 a 8 años       6       $ 50 COP  $ 2.142.857,14*m²   \n3           NaN           NaN     NaN            NaN                NaN   \n4    Remodelado   9 a 15 años       6    No definida  $ 1.785.714,29*m²   \n..          ...           ...     ...            ...                ...   \n315         NaN           NaN     NaN            NaN                NaN   \n316       Bueno  16 a 30 años       3   $ 50.000 COP  $ 2.553.191,49*m²   \n317       Bueno    1 a 8 años       1   $ 80.000 COP  $ 2.245.901,64*m²   \n318   Excelente    1 a 8 años       2   $ 72.000 COP  $ 2.159.420,29*m²   \n319   Excelente    1 a 8 años       2    No definida  $ 2.083.333,33*m²   \n\n    Tipo de apartamento Parqueaderos  \n0                   NaN          NaN  \n1                   NaN          NaN  \n2                   NaN          NaN  \n3                   NaN          NaN  \n4                  Loft          NaN  \n..                  ...          ...  \n315                 NaN          NaN  \n316                 NaN          NaN  \n317                 NaN          NaN  \n318                 NaN          NaN  \n319                 NaN          NaN  \n\n[320 rows x 13 columns]",
      "text/html": "<div>\n<style scoped>\n    .dataframe tbody tr th:only-of-type {\n        vertical-align: middle;\n    }\n\n    .dataframe tbody tr th {\n        vertical-align: top;\n    }\n\n    .dataframe thead th {\n        text-align: right;\n    }\n</style>\n<table border=\"1\" class=\"dataframe\">\n  <thead>\n    <tr style=\"text-align: right;\">\n      <th></th>\n      <th>price</th>\n      <th>Habitaciones</th>\n      <th>Baños</th>\n      <th>Área construída</th>\n      <th>Área privada</th>\n      <th>Estrato</th>\n      <th>Estado</th>\n      <th>Antigüedad</th>\n      <th>Piso N°</th>\n      <th>Administración</th>\n      <th>Precio m²</th>\n      <th>Tipo de apartamento</th>\n      <th>Parqueaderos</th>\n    </tr>\n  </thead>\n  <tbody>\n    <tr>\n      <th>0</th>\n      <td>$ 130.000.000</td>\n      <td>3</td>\n      <td>2</td>\n      <td>51 m²</td>\n      <td>0 m²</td>\n      <td>3</td>\n      <td>Bueno</td>\n      <td>1 a 8 años</td>\n      <td>2</td>\n      <td>$ 79.000 COP</td>\n      <td>$ 2.549.019,61*m²</td>\n      <td>NaN</td>\n      <td>NaN</td>\n    </tr>\n    <tr>\n      <th>1</th>\n      <td>$ 112.000.000</td>\n      <td>2</td>\n      <td>1</td>\n      <td>44 m²</td>\n      <td>44 m²</td>\n      <td>2</td>\n      <td>Bueno</td>\n      <td>9 a 15 años</td>\n      <td>1</td>\n      <td>No definida</td>\n      <td>$ 2.545.454,55*m²</td>\n      <td>NaN</td>\n      <td>NaN</td>\n    </tr>\n    <tr>\n      <th>2</th>\n      <td>$ 150.000.000</td>\n      <td>3</td>\n      <td>1</td>\n      <td>70 m²</td>\n      <td>64 m²</td>\n      <td>3</td>\n      <td>Remodelado</td>\n      <td>1 a 8 años</td>\n      <td>6</td>\n      <td>$ 50 COP</td>\n      <td>$ 2.142.857,14*m²</td>\n      <td>NaN</td>\n      <td>NaN</td>\n    </tr>\n    <tr>\n      <th>3</th>\n      <td>$ 152.152.000</td>\n      <td>NaN</td>\n      <td>NaN</td>\n      <td>NaN</td>\n      <td>NaN</td>\n      <td>NaN</td>\n      <td>NaN</td>\n      <td>NaN</td>\n      <td>NaN</td>\n      <td>NaN</td>\n      <td>NaN</td>\n      <td>NaN</td>\n      <td>NaN</td>\n    </tr>\n    <tr>\n      <th>4</th>\n      <td>$ 100.000.000</td>\n      <td>3</td>\n      <td>1</td>\n      <td>56 m²</td>\n      <td>56 m²</td>\n      <td>3</td>\n      <td>Remodelado</td>\n      <td>9 a 15 años</td>\n      <td>6</td>\n      <td>No definida</td>\n      <td>$ 1.785.714,29*m²</td>\n      <td>Loft</td>\n      <td>NaN</td>\n    </tr>\n    <tr>\n      <th>...</th>\n      <td>...</td>\n      <td>...</td>\n      <td>...</td>\n      <td>...</td>\n      <td>...</td>\n      <td>...</td>\n      <td>...</td>\n      <td>...</td>\n      <td>...</td>\n      <td>...</td>\n      <td>...</td>\n      <td>...</td>\n      <td>...</td>\n    </tr>\n    <tr>\n      <th>315</th>\n      <td>$ 139.000.000</td>\n      <td>NaN</td>\n      <td>NaN</td>\n      <td>NaN</td>\n      <td>NaN</td>\n      <td>NaN</td>\n      <td>NaN</td>\n      <td>NaN</td>\n      <td>NaN</td>\n      <td>NaN</td>\n      <td>NaN</td>\n      <td>NaN</td>\n      <td>NaN</td>\n    </tr>\n    <tr>\n      <th>316</th>\n      <td>$ 120.000.000</td>\n      <td>2</td>\n      <td>1</td>\n      <td>47 m²</td>\n      <td>42 m²</td>\n      <td>3</td>\n      <td>Bueno</td>\n      <td>16 a 30 años</td>\n      <td>3</td>\n      <td>$ 50.000 COP</td>\n      <td>$ 2.553.191,49*m²</td>\n      <td>NaN</td>\n      <td>NaN</td>\n    </tr>\n    <tr>\n      <th>317</th>\n      <td>$ 137.000.000</td>\n      <td>3</td>\n      <td>2</td>\n      <td>61 m²</td>\n      <td>61 m²</td>\n      <td>3</td>\n      <td>Bueno</td>\n      <td>1 a 8 años</td>\n      <td>1</td>\n      <td>$ 80.000 COP</td>\n      <td>$ 2.245.901,64*m²</td>\n      <td>NaN</td>\n      <td>NaN</td>\n    </tr>\n    <tr>\n      <th>318</th>\n      <td>$ 149.000.000</td>\n      <td>3</td>\n      <td>2</td>\n      <td>69 m²</td>\n      <td>70 m²</td>\n      <td>3</td>\n      <td>Excelente</td>\n      <td>1 a 8 años</td>\n      <td>2</td>\n      <td>$ 72.000 COP</td>\n      <td>$ 2.159.420,29*m²</td>\n      <td>NaN</td>\n      <td>NaN</td>\n    </tr>\n    <tr>\n      <th>319</th>\n      <td>$ 100.000.000</td>\n      <td>3</td>\n      <td>1</td>\n      <td>48 m²</td>\n      <td>0 m²</td>\n      <td>3</td>\n      <td>Excelente</td>\n      <td>1 a 8 años</td>\n      <td>2</td>\n      <td>No definida</td>\n      <td>$ 2.083.333,33*m²</td>\n      <td>NaN</td>\n      <td>NaN</td>\n    </tr>\n  </tbody>\n</table>\n<p>320 rows × 13 columns</p>\n</div>"
     },
     "execution_count": 15,
     "metadata": {},
     "output_type": "execute_result"
    }
   ],
   "source": [
    "df"
   ],
   "metadata": {
    "collapsed": false,
    "pycharm": {
     "name": "#%%\n"
    }
   }
  },
  {
   "cell_type": "code",
   "execution_count": null,
   "outputs": [],
   "source": [],
   "metadata": {
    "collapsed": false,
    "pycharm": {
     "name": "#%%\n"
    }
   }
  }
 ],
 "metadata": {
  "kernelspec": {
   "display_name": "Python 3",
   "language": "python",
   "name": "python3"
  },
  "language_info": {
   "codemirror_mode": {
    "name": "ipython",
    "version": 2
   },
   "file_extension": ".py",
   "mimetype": "text/x-python",
   "name": "python",
   "nbconvert_exporter": "python",
   "pygments_lexer": "ipython2",
   "version": "2.7.6"
  }
 },
 "nbformat": 4,
 "nbformat_minor": 0
}